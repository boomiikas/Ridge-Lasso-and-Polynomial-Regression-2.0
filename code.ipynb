{
 "cells": [
  {
   "cell_type": "code",
   "execution_count": 5,
   "id": "2e1e08b3",
   "metadata": {},
   "outputs": [],
   "source": [
    "import pandas as pd\n",
    "from sklearn.linear_model import RidgeCV\n",
    "from sklearn.linear_model import LinearRegression\n",
    "from sklearn.metrics import r2_score\n",
    "from sklearn.model_selection import train_test_split"
   ]
  },
  {
   "cell_type": "code",
   "execution_count": 6,
   "id": "8c254761",
   "metadata": {},
   "outputs": [],
   "source": [
    "df=pd.read_csv('houses_ridge.csv')\n",
    "X=df.drop(columns='price_k')\n",
    "y=df['price_k']\n",
    "X_train, X_test, y_train, y_test = train_test_split(X, y, test_size=0.2, random_state=42)"
   ]
  },
  {
   "cell_type": "markdown",
   "id": "81d34771",
   "metadata": {},
   "source": [
    "OLS -- Oridinary Least Square -- OLS finds the best-fitting straight line (or hyperplane) through the data by minimizing the sum of squared errors between the actual values and the predicted values.\n",
    "Disadvantage : Predictors highly correlated,OLS coefficients unstable and large"
   ]
  },
  {
   "cell_type": "code",
   "execution_count": 7,
   "id": "11543669",
   "metadata": {},
   "outputs": [
    {
     "name": "stdout",
     "output_type": "stream",
     "text": [
      "OLS Coefficients: [ 0.4160114  10.90996736 16.91480141 -0.66124772 -0.73169972]\n",
      "OLS R²: 0.650815820909559\n"
     ]
    }
   ],
   "source": [
    "ols = LinearRegression()\n",
    "ols.fit(X_train, y_train)\n",
    "y_pred_ols = ols.predict(X_test)\n",
    "r2_ols = r2_score(y_test, y_pred_ols)\n",
    "print(\"OLS Coefficients:\", ols.coef_)\n",
    "print(\"OLS R²:\", r2_ols)"
   ]
  },
  {
   "cell_type": "markdown",
   "id": "4be5b57d",
   "metadata": {},
   "source": [
    "Ridge Regression : It still tries to minimize the sum of squared errors, but it adds a penalty for large coefficients."
   ]
  },
  {
   "cell_type": "code",
   "execution_count": 10,
   "id": "29031dc4",
   "metadata": {},
   "outputs": [
    {
     "name": "stdout",
     "output_type": "stream",
     "text": [
      "Ridge Coefficients: [ 0.48841905 10.13532406 15.19332422 -0.66891968 -0.7234745 ]\n",
      "Ridge R²: 0.6647717301742597\n"
     ]
    }
   ],
   "source": [
    "ridge = RidgeCV(alphas=10)   \n",
    "ridge.fit(X_train, y_train)\n",
    "y_pred_ridge = ridge.predict(X_test)\n",
    "r2_ridge = r2_score(y_test, y_pred_ridge)\n",
    "print(\"Ridge Coefficients:\", ridge.coef_)\n",
    "print(\"Ridge R²:\", r2_ridge)"
   ]
  }
 ],
 "metadata": {
  "kernelspec": {
   "display_name": "pyai",
   "language": "python",
   "name": "python3"
  },
  "language_info": {
   "codemirror_mode": {
    "name": "ipython",
    "version": 3
   },
   "file_extension": ".py",
   "mimetype": "text/x-python",
   "name": "python",
   "nbconvert_exporter": "python",
   "pygments_lexer": "ipython3",
   "version": "3.12.11"
  }
 },
 "nbformat": 4,
 "nbformat_minor": 5
}
